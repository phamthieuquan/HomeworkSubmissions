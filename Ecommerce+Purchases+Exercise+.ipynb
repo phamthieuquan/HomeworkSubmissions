{
 "cells": [
  {
   "cell_type": "markdown",
   "metadata": {},
   "source": [
    "# Ecommerce Purchases Exercise\n",
    "\n",
    "In this Exercise you will be given some Fake Data about some purchases done through Amazon! Just go ahead and follow the directions and try your best to answer the questions and complete the tasks. Feel free to reference the solutions. Most of the tasks can be solved in different ways. For the most part, the questions get progressively harder.\n",
    "\n",
    "Please excuse anything that doesn't make \"Real-World\" sense in the dataframe, all the data is fake and made-up.\n",
    "\n",
    "Also note that all of these questions can be answered with one line of code.\n",
    "____\n",
    "** Import pandas and read in the Ecommerce Purchases csv file and set it to a DataFrame called ecom. **"
   ]
  },
  {
   "cell_type": "code",
   "execution_count": 2,
   "metadata": {},
   "outputs": [],
   "source": [
    "import pandas as pd\n",
    "import seaborn as sns"
   ]
  },
  {
   "cell_type": "code",
   "execution_count": 3,
   "metadata": {},
   "outputs": [],
   "source": [
    "ecom = pd.read_csv('EcommercePurchases.csv')"
   ]
  },
  {
   "cell_type": "markdown",
   "metadata": {},
   "source": [
    "**Check the head of the DataFrame.**"
   ]
  },
  {
   "cell_type": "code",
   "execution_count": 4,
   "metadata": {},
   "outputs": [
    {
     "data": {
      "text/html": [
       "<div>\n",
       "<style scoped>\n",
       "    .dataframe tbody tr th:only-of-type {\n",
       "        vertical-align: middle;\n",
       "    }\n",
       "\n",
       "    .dataframe tbody tr th {\n",
       "        vertical-align: top;\n",
       "    }\n",
       "\n",
       "    .dataframe thead th {\n",
       "        text-align: right;\n",
       "    }\n",
       "</style>\n",
       "<table border=\"1\" class=\"dataframe\">\n",
       "  <thead>\n",
       "    <tr style=\"text-align: right;\">\n",
       "      <th></th>\n",
       "      <th>Address</th>\n",
       "      <th>Lot</th>\n",
       "      <th>AM or PM</th>\n",
       "      <th>Browser Info</th>\n",
       "      <th>Company</th>\n",
       "      <th>Credit Card</th>\n",
       "      <th>CC Exp Date</th>\n",
       "      <th>CC Security Code</th>\n",
       "      <th>CC Provider</th>\n",
       "      <th>Email</th>\n",
       "      <th>Job</th>\n",
       "      <th>IP Address</th>\n",
       "      <th>Language</th>\n",
       "      <th>Purchase Price</th>\n",
       "    </tr>\n",
       "  </thead>\n",
       "  <tbody>\n",
       "    <tr>\n",
       "      <th>5067</th>\n",
       "      <td>6574 Tina Port Apt. 967\\nSouth Michaelfurt, VT...</td>\n",
       "      <td>80 Mx</td>\n",
       "      <td>AM</td>\n",
       "      <td>Opera/9.84.(X11; Linux i686; it-IT) Presto/2.9...</td>\n",
       "      <td>Johnson, Mcintosh and Weber</td>\n",
       "      <td>5440307170826784</td>\n",
       "      <td>06/22</td>\n",
       "      <td>41</td>\n",
       "      <td>JCB 16 digit</td>\n",
       "      <td>joseph59@lopez.biz</td>\n",
       "      <td>Civil Service administrator</td>\n",
       "      <td>52.19.0.55</td>\n",
       "      <td>de</td>\n",
       "      <td>32.81</td>\n",
       "    </tr>\n",
       "    <tr>\n",
       "      <th>3253</th>\n",
       "      <td>87315 Jill Bypass\\nSouth Suzanneborough, WA 16...</td>\n",
       "      <td>67 CO</td>\n",
       "      <td>AM</td>\n",
       "      <td>Mozilla/5.0 (X11; Linux x86_64; rv:1.9.7.20) G...</td>\n",
       "      <td>Garcia, Anderson and Blake</td>\n",
       "      <td>210071800520832</td>\n",
       "      <td>07/18</td>\n",
       "      <td>921</td>\n",
       "      <td>Diners Club / Carte Blanche</td>\n",
       "      <td>sarahmitchell@shepard-lee.com</td>\n",
       "      <td>Nurse, adult</td>\n",
       "      <td>6.12.112.207</td>\n",
       "      <td>en</td>\n",
       "      <td>84.77</td>\n",
       "    </tr>\n",
       "    <tr>\n",
       "      <th>3603</th>\n",
       "      <td>886 William Springs\\nNorth Emily, CT 78435-3368</td>\n",
       "      <td>49 Ua</td>\n",
       "      <td>AM</td>\n",
       "      <td>Opera/8.83.(X11; Linux i686; it-IT) Presto/2.9...</td>\n",
       "      <td>Alvarado, Jacobs and Mills</td>\n",
       "      <td>3096341113756412</td>\n",
       "      <td>11/21</td>\n",
       "      <td>500</td>\n",
       "      <td>JCB 16 digit</td>\n",
       "      <td>aandersen@gmail.com</td>\n",
       "      <td>Equities trader</td>\n",
       "      <td>42.82.105.171</td>\n",
       "      <td>el</td>\n",
       "      <td>13.31</td>\n",
       "    </tr>\n",
       "    <tr>\n",
       "      <th>9019</th>\n",
       "      <td>226 Steven Spring Apt. 947\\nRogersstad, GU 12074</td>\n",
       "      <td>42 UU</td>\n",
       "      <td>AM</td>\n",
       "      <td>Mozilla/5.0 (compatible; MSIE 5.0; Windows NT ...</td>\n",
       "      <td>Smith PLC</td>\n",
       "      <td>3337725281324277</td>\n",
       "      <td>03/18</td>\n",
       "      <td>611</td>\n",
       "      <td>VISA 16 digit</td>\n",
       "      <td>fpena@pierce.org</td>\n",
       "      <td>Fisheries officer</td>\n",
       "      <td>210.195.196.60</td>\n",
       "      <td>el</td>\n",
       "      <td>89.09</td>\n",
       "    </tr>\n",
       "    <tr>\n",
       "      <th>6742</th>\n",
       "      <td>274 Jones Extension Apt. 315\\nNorth Crystal, T...</td>\n",
       "      <td>43 kk</td>\n",
       "      <td>AM</td>\n",
       "      <td>Mozilla/5.0 (Macintosh; PPC Mac OS X 10_6_9) A...</td>\n",
       "      <td>Hansen and Sons</td>\n",
       "      <td>372081842281008</td>\n",
       "      <td>05/21</td>\n",
       "      <td>665</td>\n",
       "      <td>VISA 13 digit</td>\n",
       "      <td>jasmineestrada@gmail.com</td>\n",
       "      <td>Sports coach</td>\n",
       "      <td>4.32.164.239</td>\n",
       "      <td>zh</td>\n",
       "      <td>91.08</td>\n",
       "    </tr>\n",
       "    <tr>\n",
       "      <th>4492</th>\n",
       "      <td>083 Jones Plains Apt. 952\\nNew Kennethside, OH...</td>\n",
       "      <td>73 eu</td>\n",
       "      <td>PM</td>\n",
       "      <td>Mozilla/5.0 (Macintosh; U; PPC Mac OS X 10_5_0...</td>\n",
       "      <td>Powell LLC</td>\n",
       "      <td>5126789352704122</td>\n",
       "      <td>04/17</td>\n",
       "      <td>195</td>\n",
       "      <td>American Express</td>\n",
       "      <td>markcantrell@rodriguez-sanchez.com</td>\n",
       "      <td>Automotive engineer</td>\n",
       "      <td>185.116.185.29</td>\n",
       "      <td>pt</td>\n",
       "      <td>28.57</td>\n",
       "    </tr>\n",
       "    <tr>\n",
       "      <th>4011</th>\n",
       "      <td>293 Hall Locks Suite 260\\nGonzalesfurt, RI 225...</td>\n",
       "      <td>55 OJ</td>\n",
       "      <td>AM</td>\n",
       "      <td>Mozilla/5.0 (X11; Linux x86_64) AppleWebKit/53...</td>\n",
       "      <td>Bailey-Thomas</td>\n",
       "      <td>3088249486395991</td>\n",
       "      <td>01/20</td>\n",
       "      <td>576</td>\n",
       "      <td>VISA 16 digit</td>\n",
       "      <td>gashley@rowe.com</td>\n",
       "      <td>Pensions consultant</td>\n",
       "      <td>4.230.116.134</td>\n",
       "      <td>fr</td>\n",
       "      <td>2.70</td>\n",
       "    </tr>\n",
       "    <tr>\n",
       "      <th>6428</th>\n",
       "      <td>04359 Bruce Extensions\\nWest Samuel, ND 37382</td>\n",
       "      <td>76 co</td>\n",
       "      <td>AM</td>\n",
       "      <td>Mozilla/5.0 (Macintosh; Intel Mac OS X 10_6_6)...</td>\n",
       "      <td>Banks, Watson and Williams</td>\n",
       "      <td>3337690104209644</td>\n",
       "      <td>01/17</td>\n",
       "      <td>2211</td>\n",
       "      <td>JCB 16 digit</td>\n",
       "      <td>herrerathomas@yahoo.com</td>\n",
       "      <td>Electrical engineer</td>\n",
       "      <td>219.203.188.179</td>\n",
       "      <td>de</td>\n",
       "      <td>95.58</td>\n",
       "    </tr>\n",
       "  </tbody>\n",
       "</table>\n",
       "</div>"
      ],
      "text/plain": [
       "                                                Address    Lot AM or PM  \\\n",
       "5067  6574 Tina Port Apt. 967\\nSouth Michaelfurt, VT...  80 Mx       AM   \n",
       "3253  87315 Jill Bypass\\nSouth Suzanneborough, WA 16...  67 CO       AM   \n",
       "3603    886 William Springs\\nNorth Emily, CT 78435-3368  49 Ua       AM   \n",
       "9019   226 Steven Spring Apt. 947\\nRogersstad, GU 12074  42 UU       AM   \n",
       "6742  274 Jones Extension Apt. 315\\nNorth Crystal, T...  43 kk       AM   \n",
       "4492  083 Jones Plains Apt. 952\\nNew Kennethside, OH...  73 eu       PM   \n",
       "4011  293 Hall Locks Suite 260\\nGonzalesfurt, RI 225...  55 OJ       AM   \n",
       "6428      04359 Bruce Extensions\\nWest Samuel, ND 37382  76 co       AM   \n",
       "\n",
       "                                           Browser Info  \\\n",
       "5067  Opera/9.84.(X11; Linux i686; it-IT) Presto/2.9...   \n",
       "3253  Mozilla/5.0 (X11; Linux x86_64; rv:1.9.7.20) G...   \n",
       "3603  Opera/8.83.(X11; Linux i686; it-IT) Presto/2.9...   \n",
       "9019  Mozilla/5.0 (compatible; MSIE 5.0; Windows NT ...   \n",
       "6742  Mozilla/5.0 (Macintosh; PPC Mac OS X 10_6_9) A...   \n",
       "4492  Mozilla/5.0 (Macintosh; U; PPC Mac OS X 10_5_0...   \n",
       "4011  Mozilla/5.0 (X11; Linux x86_64) AppleWebKit/53...   \n",
       "6428  Mozilla/5.0 (Macintosh; Intel Mac OS X 10_6_6)...   \n",
       "\n",
       "                          Company       Credit Card CC Exp Date  \\\n",
       "5067  Johnson, Mcintosh and Weber  5440307170826784       06/22   \n",
       "3253   Garcia, Anderson and Blake   210071800520832       07/18   \n",
       "3603   Alvarado, Jacobs and Mills  3096341113756412       11/21   \n",
       "9019                    Smith PLC  3337725281324277       03/18   \n",
       "6742              Hansen and Sons   372081842281008       05/21   \n",
       "4492                   Powell LLC  5126789352704122       04/17   \n",
       "4011                Bailey-Thomas  3088249486395991       01/20   \n",
       "6428   Banks, Watson and Williams  3337690104209644       01/17   \n",
       "\n",
       "      CC Security Code                  CC Provider  \\\n",
       "5067                41                 JCB 16 digit   \n",
       "3253               921  Diners Club / Carte Blanche   \n",
       "3603               500                 JCB 16 digit   \n",
       "9019               611                VISA 16 digit   \n",
       "6742               665                VISA 13 digit   \n",
       "4492               195             American Express   \n",
       "4011               576                VISA 16 digit   \n",
       "6428              2211                 JCB 16 digit   \n",
       "\n",
       "                                   Email                          Job  \\\n",
       "5067                  joseph59@lopez.biz  Civil Service administrator   \n",
       "3253       sarahmitchell@shepard-lee.com                 Nurse, adult   \n",
       "3603                 aandersen@gmail.com              Equities trader   \n",
       "9019                    fpena@pierce.org            Fisheries officer   \n",
       "6742            jasmineestrada@gmail.com                 Sports coach   \n",
       "4492  markcantrell@rodriguez-sanchez.com          Automotive engineer   \n",
       "4011                    gashley@rowe.com          Pensions consultant   \n",
       "6428             herrerathomas@yahoo.com          Electrical engineer   \n",
       "\n",
       "           IP Address Language  Purchase Price  \n",
       "5067       52.19.0.55       de           32.81  \n",
       "3253     6.12.112.207       en           84.77  \n",
       "3603    42.82.105.171       el           13.31  \n",
       "9019   210.195.196.60       el           89.09  \n",
       "6742     4.32.164.239       zh           91.08  \n",
       "4492   185.116.185.29       pt           28.57  \n",
       "4011    4.230.116.134       fr            2.70  \n",
       "6428  219.203.188.179       de           95.58  "
      ]
     },
     "execution_count": 4,
     "metadata": {},
     "output_type": "execute_result"
    }
   ],
   "source": [
    "ecom.sample(8)"
   ]
  },
  {
   "cell_type": "markdown",
   "metadata": {},
   "source": [
    "** How many rows and columns are there? **"
   ]
  },
  {
   "cell_type": "code",
   "execution_count": 5,
   "metadata": {},
   "outputs": [
    {
     "name": "stdout",
     "output_type": "stream",
     "text": [
      "<class 'pandas.core.frame.DataFrame'>\n",
      "RangeIndex: 10000 entries, 0 to 9999\n",
      "Data columns (total 14 columns):\n",
      "Address             10000 non-null object\n",
      "Lot                 10000 non-null object\n",
      "AM or PM            10000 non-null object\n",
      "Browser Info        10000 non-null object\n",
      "Company             10000 non-null object\n",
      "Credit Card         10000 non-null int64\n",
      "CC Exp Date         10000 non-null object\n",
      "CC Security Code    10000 non-null int64\n",
      "CC Provider         10000 non-null object\n",
      "Email               10000 non-null object\n",
      "Job                 10000 non-null object\n",
      "IP Address          10000 non-null object\n",
      "Language            10000 non-null object\n",
      "Purchase Price      10000 non-null float64\n",
      "dtypes: float64(1), int64(2), object(11)\n",
      "memory usage: 1.1+ MB\n"
     ]
    }
   ],
   "source": [
    "ecom.info()\n",
    "#rows=1000 entries\n",
    "#columns=14"
   ]
  },
  {
   "cell_type": "markdown",
   "metadata": {},
   "source": [
    "** What is the average Purchase Price? **"
   ]
  },
  {
   "cell_type": "code",
   "execution_count": 6,
   "metadata": {},
   "outputs": [
    {
     "data": {
      "text/plain": [
       "50.34730200000025"
      ]
     },
     "execution_count": 6,
     "metadata": {},
     "output_type": "execute_result"
    }
   ],
   "source": [
    "ecom['Purchase Price'].mean()"
   ]
  },
  {
   "cell_type": "markdown",
   "metadata": {},
   "source": [
    "** What were the highest and lowest purchase prices? **"
   ]
  },
  {
   "cell_type": "code",
   "execution_count": 7,
   "metadata": {},
   "outputs": [
    {
     "name": "stdout",
     "output_type": "stream",
     "text": [
      "50.34730200000025\n",
      "99.99\n",
      "0.0\n"
     ]
    }
   ],
   "source": [
    "print(ecom['Purchase Price'].mean())\n",
    "print(ecom['Purchase Price'].max())\n",
    "print(ecom['Purchase Price'].min())"
   ]
  },
  {
   "cell_type": "code",
   "execution_count": null,
   "metadata": {},
   "outputs": [],
   "source": []
  },
  {
   "cell_type": "markdown",
   "metadata": {},
   "source": [
    "** How many people have English 'en' as their Language of choice on the website? **"
   ]
  },
  {
   "cell_type": "code",
   "execution_count": 8,
   "metadata": {},
   "outputs": [
    {
     "data": {
      "text/plain": [
       "1098"
      ]
     },
     "execution_count": 8,
     "metadata": {},
     "output_type": "execute_result"
    }
   ],
   "source": [
    "def Language(s):\n",
    "    return s.split()[0]\n",
    "ecom['Language'].map(Language)\n",
    "def check_en(s):\n",
    "    if 'en' in s.lower():\n",
    "        return True\n",
    "    else:\n",
    "        return False\n",
    "sum(ecom['Language'].map(check_en))\n",
    "#1098"
   ]
  },
  {
   "cell_type": "markdown",
   "metadata": {},
   "source": [
    "** How many people have the job title of \"Lawyer\" ? **\n"
   ]
  },
  {
   "cell_type": "code",
   "execution_count": 9,
   "metadata": {},
   "outputs": [
    {
     "data": {
      "text/plain": [
       "30"
      ]
     },
     "execution_count": 9,
     "metadata": {},
     "output_type": "execute_result"
    }
   ],
   "source": [
    "def lawyer(s):\n",
    "    return s.split()[0]\n",
    "ecom['Job'].map(lawyer)\n",
    "def check_lawyer(s):\n",
    "    if 'lawyer' in s.lower():\n",
    "        return True\n",
    "    else:\n",
    "        return False\n",
    "sum(ecom['Job'].map(check_lawyer))\n",
    "#khanh or hai minh, why did it have to be lowercase L?  it kept putting 0 until I changed L -> l\n"
   ]
  },
  {
   "cell_type": "markdown",
   "metadata": {},
   "source": [
    "** How many people made the purchase during the AM and how many people made the purchase during PM ? **\n",
    "\n",
    "**(Hint: Check out [value_counts()](http://pandas.pydata.org/pandas-docs/stable/generated/pandas.Series.value_counts.html) ) **"
   ]
  },
  {
   "cell_type": "code",
   "execution_count": 10,
   "metadata": {},
   "outputs": [
    {
     "data": {
      "text/plain": [
       "PM    5068\n",
       "AM    4932\n",
       "Name: AM or PM, dtype: int64"
      ]
     },
     "execution_count": 10,
     "metadata": {},
     "output_type": "execute_result"
    }
   ],
   "source": [
    "ecom['AM or PM'].value_counts()"
   ]
  },
  {
   "cell_type": "markdown",
   "metadata": {},
   "source": [
    "** What are the 5 most common Job Titles? **"
   ]
  },
  {
   "cell_type": "code",
   "execution_count": 11,
   "metadata": {},
   "outputs": [
    {
     "data": {
      "text/plain": [
       "Interior and spatial designer    31\n",
       "Lawyer                           30\n",
       "Social researcher                28\n",
       "Purchasing manager               27\n",
       "Designer, jewellery              27\n",
       "Name: Job, dtype: int64"
      ]
     },
     "execution_count": 11,
     "metadata": {},
     "output_type": "execute_result"
    }
   ],
   "source": [
    "ecom['Job'].value_counts().head(5)"
   ]
  },
  {
   "cell_type": "markdown",
   "metadata": {},
   "source": [
    "** Someone made a purchase that came from Lot: \"90 WT\" , what was the Purchase Price for this transaction? **"
   ]
  },
  {
   "cell_type": "code",
   "execution_count": 12,
   "metadata": {},
   "outputs": [
    {
     "data": {
      "text/plain": [
       "513    75.1\n",
       "Name: Purchase Price, dtype: float64"
      ]
     },
     "execution_count": 12,
     "metadata": {},
     "output_type": "execute_result"
    }
   ],
   "source": [
    "ecom[ecom['Lot']=='90 WT']['Purchase Price']"
   ]
  },
  {
   "cell_type": "markdown",
   "metadata": {},
   "source": [
    "** What is the email of the person with the following Credit Card Number: 4926535242672853 **"
   ]
  },
  {
   "cell_type": "code",
   "execution_count": 13,
   "metadata": {},
   "outputs": [
    {
     "data": {
      "text/plain": [
       "2023    andersonchad@bond-fields.info\n",
       "Name: Email, dtype: object"
      ]
     },
     "execution_count": 13,
     "metadata": {},
     "output_type": "execute_result"
    }
   ],
   "source": [
    "ecom[ecom['Credit Card']==3096425765281041]['Email']"
   ]
  },
  {
   "cell_type": "markdown",
   "metadata": {},
   "source": [
    "** How many people have American Express as their Credit Card Provider *and* made a purchase above $95 ?**"
   ]
  },
  {
   "cell_type": "code",
   "execution_count": 14,
   "metadata": {},
   "outputs": [
    {
     "data": {
      "text/plain": [
       "39"
      ]
     },
     "execution_count": 14,
     "metadata": {},
     "output_type": "execute_result"
    }
   ],
   "source": [
    "sum(ecom[ecom['CC Provider']=='American Express']['Purchase Price']>=95)"
   ]
  },
  {
   "cell_type": "markdown",
   "metadata": {},
   "source": [
    "** Hard: How many people have a credit card that expires in 2025? **"
   ]
  },
  {
   "cell_type": "code",
   "execution_count": 15,
   "metadata": {},
   "outputs": [
    {
     "data": {
      "text/plain": [
       "1033"
      ]
     },
     "execution_count": 15,
     "metadata": {},
     "output_type": "execute_result"
    }
   ],
   "source": [
    "def year_expire(date):\n",
    "    return date.split('/')[1]\n",
    "ecom[ecom['CC Exp Date'].apply(year_expire) == '25']['CC Exp Date'].count()\n"
   ]
  },
  {
   "cell_type": "markdown",
   "metadata": {},
   "source": [
    "** Hard: What are the top 5 most popular email providers/hosts (e.g. gmail.com, yahoo.com, etc...) **"
   ]
  },
  {
   "cell_type": "code",
   "execution_count": 16,
   "metadata": {},
   "outputs": [
    {
     "data": {
      "text/plain": [
       "hotmail.com     1638\n",
       "yahoo.com       1616\n",
       "gmail.com       1605\n",
       "smith.com         42\n",
       "williams.com      37\n",
       "Name: Email, dtype: int64"
      ]
     },
     "execution_count": 16,
     "metadata": {},
     "output_type": "execute_result"
    }
   ],
   "source": [
    "def emails (emails):\n",
    "    return emails.split('@')[1]\n",
    "ecom['Email'].apply(emails).value_counts().head(5)"
   ]
  },
  {
   "cell_type": "markdown",
   "metadata": {},
   "source": [
    "### Data Visualization\n",
    "\n",
    "** Implement a bar plot for top 5 most popular email providers/hosts **"
   ]
  },
  {
   "cell_type": "code",
   "execution_count": 18,
   "metadata": {},
   "outputs": [
    {
     "data": {
      "text/plain": [
       "<matplotlib.axes._subplots.AxesSubplot at 0x1a160d7a20>"
      ]
     },
     "execution_count": 18,
     "metadata": {},
     "output_type": "execute_result"
    },
    {
     "data": {
      "image/png": "[encoded data removed]",
      "text/plain": [
       "<Figure size 432x288 with 1 Axes>"
      ]
     },
     "metadata": {
      "needs_background": "light"
     },
     "output_type": "display_data"
    }
   ],
   "source": [
    "sns.countplot(ecom['Email'].apply(emails).value_counts().head(5))"
   ]
  },
  {
   "cell_type": "markdown",
   "metadata": {},
   "source": [
    "** Plot distribution of Purchase Price **"
   ]
  },
  {
   "cell_type": "code",
   "execution_count": 23,
   "metadata": {},
   "outputs": [
    {
     "name": "stderr",
     "output_type": "stream",
     "text": [
      "/anaconda3/lib/python3.7/site-packages/scipy/stats/stats.py:1713: FutureWarning: Using a non-tuple sequence for multidimensional indexing is deprecated; use `arr[tuple(seq)]` instead of `arr[seq]`. In the future this will be interpreted as an array index, `arr[np.array(seq)]`, which will result either in an error or a different result.\n",
      "  return np.add.reduce(sorted[indexer] * weights, axis=axis) / sumval\n"
     ]
    },
    {
     "data": {
      "text/plain": [
       "<matplotlib.axes._subplots.AxesSubplot at 0x1a17413d68>"
      ]
     },
     "execution_count": 23,
     "metadata": {},
     "output_type": "execute_result"
    },
    {
     "data": {
      "image/png": "[encoded data removed]",
      "text/plain": [
       "<Figure size 432x288 with 1 Axes>"
      ]
     },
     "metadata": {
      "needs_background": "light"
     },
     "output_type": "display_data"
    }
   ],
   "source": [
    "sns.distplot(ecom['Purchase Price'])"
   ]
  },
  {
   "cell_type": "markdown",
   "metadata": {},
   "source": [
    "** Implement countplot on Language **"
   ]
  },
  {
   "cell_type": "code",
   "execution_count": 25,
   "metadata": {},
   "outputs": [
    {
     "data": {
      "text/plain": [
       "<matplotlib.axes._subplots.AxesSubplot at 0x1a15f949b0>"
      ]
     },
     "execution_count": 25,
     "metadata": {},
     "output_type": "execute_result"
    },
    {
     "data": {
      "image/png": "[encoded data removed]",
      "text/plain": [
       "<Figure size 432x288 with 1 Axes>"
      ]
     },
     "metadata": {
      "needs_background": "light"
     },
     "output_type": "display_data"
    }
   ],
   "source": [
    "sns.countplot(ecom['Language'].value_counts())"
   ]
  },
  {
   "cell_type": "code",
   "execution_count": 43,
   "metadata": {},
   "outputs": [
    {
     "ename": "ValueError",
     "evalue": "all the input array dimensions except for the concatenation axis must match exactly",
     "output_type": "error",
     "traceback": [
      "\u001b[0;31m---------------------------------------------------------------------------\u001b[0m",
      "\u001b[0;31mValueError\u001b[0m                                Traceback (most recent call last)",
      "\u001b[0;32m<ipython-input-43-bf5830d0af4f>\u001b[0m in \u001b[0;36m<module>\u001b[0;34m()\u001b[0m\n\u001b[0;32m----> 1\u001b[0;31m \u001b[0msns\u001b[0m\u001b[0;34m.\u001b[0m\u001b[0mregplot\u001b[0m\u001b[0;34m(\u001b[0m\u001b[0mx\u001b[0m\u001b[0;34m=\u001b[0m\u001b[0mecom\u001b[0m\u001b[0;34m[\u001b[0m\u001b[0;34m'Job'\u001b[0m\u001b[0;34m]\u001b[0m\u001b[0;34m.\u001b[0m\u001b[0mvalue_counts\u001b[0m\u001b[0;34m(\u001b[0m\u001b[0;34m)\u001b[0m\u001b[0;34m.\u001b[0m\u001b[0mhead\u001b[0m\u001b[0;34m(\u001b[0m\u001b[0;36m5\u001b[0m\u001b[0;34m)\u001b[0m\u001b[0;34m,\u001b[0m \u001b[0my\u001b[0m\u001b[0;34m=\u001b[0m\u001b[0mecom\u001b[0m\u001b[0;34m[\u001b[0m\u001b[0;34m'Purchase Price'\u001b[0m\u001b[0;34m]\u001b[0m\u001b[0;34m,\u001b[0m \u001b[0mdata\u001b[0m\u001b[0;34m=\u001b[0m\u001b[0mecom\u001b[0m\u001b[0;34m)\u001b[0m\u001b[0;34m\u001b[0m\u001b[0m\n\u001b[0m",
      "\u001b[0;32m/anaconda3/lib/python3.7/site-packages/seaborn/regression.py\u001b[0m in \u001b[0;36mregplot\u001b[0;34m(x, y, data, x_estimator, x_bins, x_ci, scatter, fit_reg, ci, n_boot, units, order, logistic, lowess, robust, logx, x_partial, y_partial, truncate, dropna, x_jitter, y_jitter, label, color, marker, scatter_kws, line_kws, ax)\u001b[0m\n\u001b[1;32m    779\u001b[0m                                  \u001b[0morder\u001b[0m\u001b[0;34m,\u001b[0m \u001b[0mlogistic\u001b[0m\u001b[0;34m,\u001b[0m \u001b[0mlowess\u001b[0m\u001b[0;34m,\u001b[0m \u001b[0mrobust\u001b[0m\u001b[0;34m,\u001b[0m \u001b[0mlogx\u001b[0m\u001b[0;34m,\u001b[0m\u001b[0;34m\u001b[0m\u001b[0m\n\u001b[1;32m    780\u001b[0m                                  \u001b[0mx_partial\u001b[0m\u001b[0;34m,\u001b[0m \u001b[0my_partial\u001b[0m\u001b[0;34m,\u001b[0m \u001b[0mtruncate\u001b[0m\u001b[0;34m,\u001b[0m \u001b[0mdropna\u001b[0m\u001b[0;34m,\u001b[0m\u001b[0;34m\u001b[0m\u001b[0m\n\u001b[0;32m--> 781\u001b[0;31m                                  x_jitter, y_jitter, color, label)\n\u001b[0m\u001b[1;32m    782\u001b[0m \u001b[0;34m\u001b[0m\u001b[0m\n\u001b[1;32m    783\u001b[0m     \u001b[0;32mif\u001b[0m \u001b[0max\u001b[0m \u001b[0;32mis\u001b[0m \u001b[0;32mNone\u001b[0m\u001b[0;34m:\u001b[0m\u001b[0;34m\u001b[0m\u001b[0m\n",
      "\u001b[0;32m/anaconda3/lib/python3.7/site-packages/seaborn/regression.py\u001b[0m in \u001b[0;36m__init__\u001b[0;34m(self, x, y, data, x_estimator, x_bins, x_ci, scatter, fit_reg, ci, n_boot, units, order, logistic, lowess, robust, logx, x_partial, y_partial, truncate, dropna, x_jitter, y_jitter, color, label)\u001b[0m\n\u001b[1;32m    107\u001b[0m         \u001b[0;31m# Drop null observations\u001b[0m\u001b[0;34m\u001b[0m\u001b[0;34m\u001b[0m\u001b[0m\n\u001b[1;32m    108\u001b[0m         \u001b[0;32mif\u001b[0m \u001b[0mdropna\u001b[0m\u001b[0;34m:\u001b[0m\u001b[0;34m\u001b[0m\u001b[0m\n\u001b[0;32m--> 109\u001b[0;31m             \u001b[0mself\u001b[0m\u001b[0;34m.\u001b[0m\u001b[0mdropna\u001b[0m\u001b[0;34m(\u001b[0m\u001b[0;34m\"x\"\u001b[0m\u001b[0;34m,\u001b[0m \u001b[0;34m\"y\"\u001b[0m\u001b[0;34m,\u001b[0m \u001b[0;34m\"units\"\u001b[0m\u001b[0;34m,\u001b[0m \u001b[0;34m\"x_partial\"\u001b[0m\u001b[0;34m,\u001b[0m \u001b[0;34m\"y_partial\"\u001b[0m\u001b[0;34m)\u001b[0m\u001b[0;34m\u001b[0m\u001b[0m\n\u001b[0m\u001b[1;32m    110\u001b[0m \u001b[0;34m\u001b[0m\u001b[0m\n\u001b[1;32m    111\u001b[0m         \u001b[0;31m# Regress nuisance variables out of the data\u001b[0m\u001b[0;34m\u001b[0m\u001b[0;34m\u001b[0m\u001b[0m\n",
      "\u001b[0;32m/anaconda3/lib/python3.7/site-packages/seaborn/regression.py\u001b[0m in \u001b[0;36mdropna\u001b[0;34m(self, *vars)\u001b[0m\n\u001b[1;32m     56\u001b[0m         \u001b[0mvals\u001b[0m \u001b[0;34m=\u001b[0m \u001b[0;34m[\u001b[0m\u001b[0mgetattr\u001b[0m\u001b[0;34m(\u001b[0m\u001b[0mself\u001b[0m\u001b[0;34m,\u001b[0m \u001b[0mvar\u001b[0m\u001b[0;34m)\u001b[0m \u001b[0;32mfor\u001b[0m \u001b[0mvar\u001b[0m \u001b[0;32min\u001b[0m \u001b[0mvars\u001b[0m\u001b[0;34m]\u001b[0m\u001b[0;34m\u001b[0m\u001b[0m\n\u001b[1;32m     57\u001b[0m         \u001b[0mvals\u001b[0m \u001b[0;34m=\u001b[0m \u001b[0;34m[\u001b[0m\u001b[0mv\u001b[0m \u001b[0;32mfor\u001b[0m \u001b[0mv\u001b[0m \u001b[0;32min\u001b[0m \u001b[0mvals\u001b[0m \u001b[0;32mif\u001b[0m \u001b[0mv\u001b[0m \u001b[0;32mis\u001b[0m \u001b[0;32mnot\u001b[0m \u001b[0;32mNone\u001b[0m\u001b[0;34m]\u001b[0m\u001b[0;34m\u001b[0m\u001b[0m\n\u001b[0;32m---> 58\u001b[0;31m         \u001b[0mnot_na\u001b[0m \u001b[0;34m=\u001b[0m \u001b[0mnp\u001b[0m\u001b[0;34m.\u001b[0m\u001b[0mall\u001b[0m\u001b[0;34m(\u001b[0m\u001b[0mnp\u001b[0m\u001b[0;34m.\u001b[0m\u001b[0mcolumn_stack\u001b[0m\u001b[0;34m(\u001b[0m\u001b[0;34m[\u001b[0m\u001b[0mpd\u001b[0m\u001b[0;34m.\u001b[0m\u001b[0mnotnull\u001b[0m\u001b[0;34m(\u001b[0m\u001b[0mv\u001b[0m\u001b[0;34m)\u001b[0m \u001b[0;32mfor\u001b[0m \u001b[0mv\u001b[0m \u001b[0;32min\u001b[0m \u001b[0mvals\u001b[0m\u001b[0;34m]\u001b[0m\u001b[0;34m)\u001b[0m\u001b[0;34m,\u001b[0m \u001b[0maxis\u001b[0m\u001b[0;34m=\u001b[0m\u001b[0;36m1\u001b[0m\u001b[0;34m)\u001b[0m\u001b[0;34m\u001b[0m\u001b[0m\n\u001b[0m\u001b[1;32m     59\u001b[0m         \u001b[0;32mfor\u001b[0m \u001b[0mvar\u001b[0m \u001b[0;32min\u001b[0m \u001b[0mvars\u001b[0m\u001b[0;34m:\u001b[0m\u001b[0;34m\u001b[0m\u001b[0m\n\u001b[1;32m     60\u001b[0m             \u001b[0mval\u001b[0m \u001b[0;34m=\u001b[0m \u001b[0mgetattr\u001b[0m\u001b[0;34m(\u001b[0m\u001b[0mself\u001b[0m\u001b[0;34m,\u001b[0m \u001b[0mvar\u001b[0m\u001b[0;34m)\u001b[0m\u001b[0;34m\u001b[0m\u001b[0m\n",
      "\u001b[0;32m/anaconda3/lib/python3.7/site-packages/numpy/lib/shape_base.py\u001b[0m in \u001b[0;36mcolumn_stack\u001b[0;34m(tup)\u001b[0m\n\u001b[1;32m    592\u001b[0m             \u001b[0marr\u001b[0m \u001b[0;34m=\u001b[0m \u001b[0marray\u001b[0m\u001b[0;34m(\u001b[0m\u001b[0marr\u001b[0m\u001b[0;34m,\u001b[0m \u001b[0mcopy\u001b[0m\u001b[0;34m=\u001b[0m\u001b[0;32mFalse\u001b[0m\u001b[0;34m,\u001b[0m \u001b[0msubok\u001b[0m\u001b[0;34m=\u001b[0m\u001b[0;32mTrue\u001b[0m\u001b[0;34m,\u001b[0m \u001b[0mndmin\u001b[0m\u001b[0;34m=\u001b[0m\u001b[0;36m2\u001b[0m\u001b[0;34m)\u001b[0m\u001b[0;34m.\u001b[0m\u001b[0mT\u001b[0m\u001b[0;34m\u001b[0m\u001b[0m\n\u001b[1;32m    593\u001b[0m         \u001b[0marrays\u001b[0m\u001b[0;34m.\u001b[0m\u001b[0mappend\u001b[0m\u001b[0;34m(\u001b[0m\u001b[0marr\u001b[0m\u001b[0;34m)\u001b[0m\u001b[0;34m\u001b[0m\u001b[0m\n\u001b[0;32m--> 594\u001b[0;31m     \u001b[0;32mreturn\u001b[0m \u001b[0m_nx\u001b[0m\u001b[0;34m.\u001b[0m\u001b[0mconcatenate\u001b[0m\u001b[0;34m(\u001b[0m\u001b[0marrays\u001b[0m\u001b[0;34m,\u001b[0m \u001b[0;36m1\u001b[0m\u001b[0;34m)\u001b[0m\u001b[0;34m\u001b[0m\u001b[0m\n\u001b[0m\u001b[1;32m    595\u001b[0m \u001b[0;34m\u001b[0m\u001b[0m\n\u001b[1;32m    596\u001b[0m \u001b[0;32mdef\u001b[0m \u001b[0mdstack\u001b[0m\u001b[0;34m(\u001b[0m\u001b[0mtup\u001b[0m\u001b[0;34m)\u001b[0m\u001b[0;34m:\u001b[0m\u001b[0;34m\u001b[0m\u001b[0m\n",
      "\u001b[0;31mValueError\u001b[0m: all the input array dimensions except for the concatenation axis must match exactly"
     ]
    }
   ],
   "source": [
    "sns.regplot(x=ecom['Job'].value_counts().head(5), y=ecom['Purchase Price'], data=ecom)"
   ]
  },
  {
   "cell_type": "code",
   "execution_count": null,
   "metadata": {},
   "outputs": [],
   "source": [
    "Feel free to plot more graphs to dive deeper into the dataset."
   ]
  },
  {
   "cell_type": "markdown",
   "metadata": {},
   "source": [
    "# Great Job!"
   ]
  }
 ],
 "metadata": {
  "kernelspec": {
   "display_name": "Python 3",
   "language": "python",
   "name": "python3"
  },
  "language_info": {
   "codemirror_mode": {
    "name": "ipython",
    "version": 3
   },
   "file_extension": ".py",
   "mimetype": "text/x-python",
   "name": "python",
   "nbconvert_exporter": "python",
   "pygments_lexer": "ipython3",
   "version": "3.7.0"
  }
 },
 "nbformat": 4,
 "nbformat_minor": 1
}
